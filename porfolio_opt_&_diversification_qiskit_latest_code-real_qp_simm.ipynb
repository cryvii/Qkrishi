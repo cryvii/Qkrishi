{
 "cells": [
  {
   "cell_type": "code",
   "execution_count": 2,
   "metadata": {
    "id": "SFpIUpP0FYrX",
    "tags": [],
    "ExecuteTime": {
     "end_time": "2023-05-21T23:11:54.817251Z",
     "start_time": "2023-05-21T23:11:53.758652Z"
    }
   },
   "outputs": [
    {
     "ename": "ImportError",
     "evalue": "cannot import name 'BaseBackend' from 'qiskit.providers' (/Users/vibhu/PycharmProjects/test/venv/lib/python3.10/site-packages/qiskit/providers/__init__.py)",
     "output_type": "error",
     "traceback": [
      "\u001B[0;31m---------------------------------------------------------------------------\u001B[0m",
      "\u001B[0;31mImportError\u001B[0m                               Traceback (most recent call last)",
      "Cell \u001B[0;32mIn[2], line 6\u001B[0m\n\u001B[1;32m      4\u001B[0m \u001B[38;5;28;01mfrom\u001B[39;00m \u001B[38;5;21;01mqiskit\u001B[39;00m\u001B[38;5;21;01m.\u001B[39;00m\u001B[38;5;21;01mresult\u001B[39;00m \u001B[38;5;28;01mimport\u001B[39;00m QuasiDistribution\n\u001B[1;32m      5\u001B[0m \u001B[38;5;28;01mfrom\u001B[39;00m \u001B[38;5;21;01mqiskit_aer\u001B[39;00m\u001B[38;5;21;01m.\u001B[39;00m\u001B[38;5;21;01mprimitives\u001B[39;00m \u001B[38;5;28;01mimport\u001B[39;00m Sampler\n\u001B[0;32m----> 6\u001B[0m \u001B[38;5;28;01mfrom\u001B[39;00m \u001B[38;5;21;01mqiskit_finance\u001B[39;00m\u001B[38;5;21;01m.\u001B[39;00m\u001B[38;5;21;01mapplications\u001B[39;00m\u001B[38;5;21;01m.\u001B[39;00m\u001B[38;5;21;01moptimization\u001B[39;00m \u001B[38;5;28;01mimport\u001B[39;00m PortfolioOptimization\n\u001B[1;32m      7\u001B[0m \u001B[38;5;28;01mfrom\u001B[39;00m \u001B[38;5;21;01mqiskit_finance\u001B[39;00m\u001B[38;5;21;01m.\u001B[39;00m\u001B[38;5;21;01mdata_providers\u001B[39;00m \u001B[38;5;28;01mimport\u001B[39;00m RandomDataProvider\n\u001B[1;32m      8\u001B[0m \u001B[38;5;28;01mfrom\u001B[39;00m \u001B[38;5;21;01mqiskit_optimization\u001B[39;00m\u001B[38;5;21;01m.\u001B[39;00m\u001B[38;5;21;01malgorithms\u001B[39;00m \u001B[38;5;28;01mimport\u001B[39;00m MinimumEigenOptimizer\n",
      "File \u001B[0;32m~/PycharmProjects/test/venv/lib/python3.10/site-packages/qiskit_finance/applications/__init__.py:52\u001B[0m\n\u001B[1;32m     13\u001B[0m \u001B[38;5;124;03m\"\"\"\u001B[39;00m\n\u001B[1;32m     14\u001B[0m \u001B[38;5;124;03mFinance applications (:mod:`qiskit_finance.applications`)\u001B[39;00m\n\u001B[1;32m     15\u001B[0m \u001B[38;5;124;03m=========================================================\u001B[39;00m\n\u001B[0;32m   (...)\u001B[0m\n\u001B[1;32m     43\u001B[0m \n\u001B[1;32m     44\u001B[0m \u001B[38;5;124;03m\"\"\"\u001B[39;00m\n\u001B[1;32m     46\u001B[0m \u001B[38;5;28;01mfrom\u001B[39;00m \u001B[38;5;21;01m.\u001B[39;00m\u001B[38;5;21;01mestimation\u001B[39;00m \u001B[38;5;28;01mimport\u001B[39;00m (\n\u001B[1;32m     47\u001B[0m     EstimationApplication,\n\u001B[1;32m     48\u001B[0m     EuropeanCallDelta,\n\u001B[1;32m     49\u001B[0m     EuropeanCallPricing,\n\u001B[1;32m     50\u001B[0m     FixedIncomePricing,\n\u001B[1;32m     51\u001B[0m )\n\u001B[0;32m---> 52\u001B[0m \u001B[38;5;28;01mfrom\u001B[39;00m \u001B[38;5;21;01m.\u001B[39;00m\u001B[38;5;21;01moptimization\u001B[39;00m \u001B[38;5;28;01mimport\u001B[39;00m PortfolioOptimization, PortfolioDiversification\n\u001B[1;32m     54\u001B[0m __all__ \u001B[38;5;241m=\u001B[39m [\n\u001B[1;32m     55\u001B[0m     \u001B[38;5;124m\"\u001B[39m\u001B[38;5;124mPortfolioOptimization\u001B[39m\u001B[38;5;124m\"\u001B[39m,\n\u001B[1;32m     56\u001B[0m     \u001B[38;5;124m\"\u001B[39m\u001B[38;5;124mPortfolioDiversification\u001B[39m\u001B[38;5;124m\"\u001B[39m,\n\u001B[0;32m   (...)\u001B[0m\n\u001B[1;32m     60\u001B[0m     \u001B[38;5;124m\"\u001B[39m\u001B[38;5;124mFixedIncomePricing\u001B[39m\u001B[38;5;124m\"\u001B[39m,\n\u001B[1;32m     61\u001B[0m ]\n",
      "File \u001B[0;32m~/PycharmProjects/test/venv/lib/python3.10/site-packages/qiskit_finance/applications/optimization/__init__.py:16\u001B[0m\n\u001B[1;32m      1\u001B[0m \u001B[38;5;66;03m# This code is part of Qiskit.\u001B[39;00m\n\u001B[1;32m      2\u001B[0m \u001B[38;5;66;03m#\u001B[39;00m\n\u001B[1;32m      3\u001B[0m \u001B[38;5;66;03m# (C) Copyright IBM 2019, 2021.\u001B[39;00m\n\u001B[0;32m   (...)\u001B[0m\n\u001B[1;32m     10\u001B[0m \u001B[38;5;66;03m# copyright notice, and modified files need to carry a notice indicating\u001B[39;00m\n\u001B[1;32m     11\u001B[0m \u001B[38;5;66;03m# that they have been altered from the originals.\u001B[39;00m\n\u001B[1;32m     14\u001B[0m \u001B[38;5;124;03m\"\"\"Optimization applications for finance\"\"\"\u001B[39;00m\n\u001B[0;32m---> 16\u001B[0m \u001B[38;5;28;01mfrom\u001B[39;00m \u001B[38;5;21;01m.\u001B[39;00m\u001B[38;5;21;01mportfolio_optimization\u001B[39;00m \u001B[38;5;28;01mimport\u001B[39;00m PortfolioOptimization\n\u001B[1;32m     17\u001B[0m \u001B[38;5;28;01mfrom\u001B[39;00m \u001B[38;5;21;01m.\u001B[39;00m\u001B[38;5;21;01mportfolio_diversification\u001B[39;00m \u001B[38;5;28;01mimport\u001B[39;00m PortfolioDiversification\n\u001B[1;32m     19\u001B[0m __all__ \u001B[38;5;241m=\u001B[39m [\u001B[38;5;124m\"\u001B[39m\u001B[38;5;124mPortfolioOptimization\u001B[39m\u001B[38;5;124m\"\u001B[39m, \u001B[38;5;124m\"\u001B[39m\u001B[38;5;124mPortfolioDiversification\u001B[39m\u001B[38;5;124m\"\u001B[39m]\n",
      "File \u001B[0;32m~/PycharmProjects/test/venv/lib/python3.10/site-packages/qiskit_finance/applications/optimization/portfolio_optimization.py:19\u001B[0m\n\u001B[1;32m     16\u001B[0m \u001B[38;5;28;01mimport\u001B[39;00m \u001B[38;5;21;01mnumpy\u001B[39;00m \u001B[38;5;28;01mas\u001B[39;00m \u001B[38;5;21;01mnp\u001B[39;00m\n\u001B[1;32m     17\u001B[0m \u001B[38;5;28;01mfrom\u001B[39;00m \u001B[38;5;21;01mdocplex\u001B[39;00m\u001B[38;5;21;01m.\u001B[39;00m\u001B[38;5;21;01mmp\u001B[39;00m\u001B[38;5;21;01m.\u001B[39;00m\u001B[38;5;21;01madvmodel\u001B[39;00m \u001B[38;5;28;01mimport\u001B[39;00m AdvModel\n\u001B[0;32m---> 19\u001B[0m \u001B[38;5;28;01mfrom\u001B[39;00m \u001B[38;5;21;01mqiskit_optimization\u001B[39;00m\u001B[38;5;21;01m.\u001B[39;00m\u001B[38;5;21;01malgorithms\u001B[39;00m \u001B[38;5;28;01mimport\u001B[39;00m OptimizationResult\n\u001B[1;32m     20\u001B[0m \u001B[38;5;28;01mfrom\u001B[39;00m \u001B[38;5;21;01mqiskit_optimization\u001B[39;00m\u001B[38;5;21;01m.\u001B[39;00m\u001B[38;5;21;01mapplications\u001B[39;00m \u001B[38;5;28;01mimport\u001B[39;00m OptimizationApplication\n\u001B[1;32m     21\u001B[0m \u001B[38;5;28;01mfrom\u001B[39;00m \u001B[38;5;21;01mqiskit_optimization\u001B[39;00m\u001B[38;5;21;01m.\u001B[39;00m\u001B[38;5;21;01mproblems\u001B[39;00m \u001B[38;5;28;01mimport\u001B[39;00m QuadraticProgram\n",
      "File \u001B[0;32m~/PycharmProjects/test/venv/lib/python3.10/site-packages/qiskit_optimization/algorithms/__init__.py:78\u001B[0m\n\u001B[1;32m     73\u001B[0m \u001B[38;5;28;01mfrom\u001B[39;00m \u001B[38;5;21;01m.\u001B[39;00m\u001B[38;5;21;01mcplex_optimizer\u001B[39;00m \u001B[38;5;28;01mimport\u001B[39;00m CplexOptimizer\n\u001B[1;32m     74\u001B[0m \u001B[38;5;28;01mfrom\u001B[39;00m \u001B[38;5;21;01m.\u001B[39;00m\u001B[38;5;21;01mgoemans_williamson_optimizer\u001B[39;00m \u001B[38;5;28;01mimport\u001B[39;00m (\n\u001B[1;32m     75\u001B[0m     GoemansWilliamsonOptimizer,\n\u001B[1;32m     76\u001B[0m     GoemansWilliamsonOptimizationResult,\n\u001B[1;32m     77\u001B[0m )\n\u001B[0;32m---> 78\u001B[0m \u001B[38;5;28;01mfrom\u001B[39;00m \u001B[38;5;21;01m.\u001B[39;00m\u001B[38;5;21;01mgrover_optimizer\u001B[39;00m \u001B[38;5;28;01mimport\u001B[39;00m GroverOptimizer, GroverOptimizationResult\n\u001B[1;32m     79\u001B[0m \u001B[38;5;28;01mfrom\u001B[39;00m \u001B[38;5;21;01m.\u001B[39;00m\u001B[38;5;21;01mgurobi_optimizer\u001B[39;00m \u001B[38;5;28;01mimport\u001B[39;00m GurobiOptimizer\n\u001B[1;32m     80\u001B[0m \u001B[38;5;28;01mfrom\u001B[39;00m \u001B[38;5;21;01m.\u001B[39;00m\u001B[38;5;21;01mminimum_eigen_optimizer\u001B[39;00m \u001B[38;5;28;01mimport\u001B[39;00m (\n\u001B[1;32m     81\u001B[0m     MinimumEigenOptimizer,\n\u001B[1;32m     82\u001B[0m     MinimumEigenOptimizationResult,\n\u001B[1;32m     83\u001B[0m )\n",
      "File \u001B[0;32m~/PycharmProjects/test/venv/lib/python3.10/site-packages/qiskit_optimization/algorithms/grover_optimizer.py:27\u001B[0m\n\u001B[1;32m     25\u001B[0m \u001B[38;5;28;01mfrom\u001B[39;00m \u001B[38;5;21;01mqiskit\u001B[39;00m\u001B[38;5;21;01m.\u001B[39;00m\u001B[38;5;21;01malgorithms\u001B[39;00m\u001B[38;5;21;01m.\u001B[39;00m\u001B[38;5;21;01mamplitude_amplifiers\u001B[39;00m\u001B[38;5;21;01m.\u001B[39;00m\u001B[38;5;21;01mgrover\u001B[39;00m \u001B[38;5;28;01mimport\u001B[39;00m Grover\n\u001B[1;32m     26\u001B[0m \u001B[38;5;28;01mfrom\u001B[39;00m \u001B[38;5;21;01mqiskit\u001B[39;00m\u001B[38;5;21;01m.\u001B[39;00m\u001B[38;5;21;01mcircuit\u001B[39;00m\u001B[38;5;21;01m.\u001B[39;00m\u001B[38;5;21;01mlibrary\u001B[39;00m \u001B[38;5;28;01mimport\u001B[39;00m QuadraticForm\n\u001B[0;32m---> 27\u001B[0m \u001B[38;5;28;01mfrom\u001B[39;00m \u001B[38;5;21;01mqiskit\u001B[39;00m\u001B[38;5;21;01m.\u001B[39;00m\u001B[38;5;21;01mproviders\u001B[39;00m \u001B[38;5;28;01mimport\u001B[39;00m Backend, BaseBackend\n\u001B[1;32m     28\u001B[0m \u001B[38;5;28;01mfrom\u001B[39;00m \u001B[38;5;21;01mqiskit\u001B[39;00m\u001B[38;5;21;01m.\u001B[39;00m\u001B[38;5;21;01mquantum_info\u001B[39;00m \u001B[38;5;28;01mimport\u001B[39;00m partial_trace\n\u001B[1;32m     29\u001B[0m \u001B[38;5;28;01mfrom\u001B[39;00m \u001B[38;5;21;01m.\u001B[39;00m\u001B[38;5;21;01moptimization_algorithm\u001B[39;00m \u001B[38;5;28;01mimport\u001B[39;00m (\n\u001B[1;32m     30\u001B[0m     OptimizationResultStatus,\n\u001B[1;32m     31\u001B[0m     OptimizationAlgorithm,\n\u001B[1;32m     32\u001B[0m     OptimizationResult,\n\u001B[1;32m     33\u001B[0m     SolutionSample,\n\u001B[1;32m     34\u001B[0m )\n",
      "\u001B[0;31mImportError\u001B[0m: cannot import name 'BaseBackend' from 'qiskit.providers' (/Users/vibhu/PycharmProjects/test/venv/lib/python3.10/site-packages/qiskit/providers/__init__.py)"
     ]
    }
   ],
   "source": [
    "from qiskit.algorithms.minimum_eigensolvers import NumPyMinimumEigensolver, QAOA, SamplingVQE\n",
    "from qiskit.algorithms.optimizers import COBYLA\n",
    "from qiskit.circuit.library import TwoLocal\n",
    "from qiskit.result import QuasiDistribution\n",
    "from qiskit_aer.primitives import Sampler\n",
    "from qiskit_finance.applications.optimization import PortfolioOptimization\n",
    "from qiskit_finance.data_providers import RandomDataProvider\n",
    "from qiskit_optimization.algorithms import MinimumEigenOptimizer\n",
    "import numpy as np\n",
    "import matplotlib.pyplot as plt\n",
    "import datetime\n",
    "\n",
    "import pandas as pd\n",
    "import random\n",
    "import yfinance as yf\n",
    "import time"
   ]
  },
  {
   "cell_type": "code",
   "execution_count": null,
   "metadata": {
    "id": "tKPITPOhFiP1",
    "tags": []
   },
   "outputs": [],
   "source": [
    "start_date = \"2017-12-25\"\n",
    "end_date = \"2022-12-25\"\n",
    "\n",
    "assets = ['AAPL','GS', 'JPM', 'MSFT', 'V']"
   ]
  },
  {
   "cell_type": "code",
   "execution_count": null,
   "metadata": {
    "colab": {
     "base_uri": "https://localhost:8080/",
     "height": 472
    },
    "id": "ujm8xL56EeoH",
    "outputId": "68beb2ac-d04e-4226-9272-62b3023a9a5a",
    "tags": []
   },
   "outputs": [],
   "source": [
    "stocks_data = yf.download(assets, start = start_date, end = end_date)['Adj Close']  \n",
    "\n",
    "\n",
    "stocks_return = stocks_data.pct_change()\n",
    "stocks_return.dropna(inplace=True)\n",
    "mu = stocks_return.mean()      #Expected Returns\n",
    "sigma = stocks_return.cov()    #Risk\n",
    "sigma = np.array(sigma)\n",
    "mu = np.array(mu)\n",
    "num_assets = len(mu)\n",
    "\n",
    "stocks_return"
   ]
  },
  {
   "cell_type": "code",
   "execution_count": null,
   "metadata": {
    "colab": {
     "base_uri": "https://localhost:8080/"
    },
    "id": "1KCH7IffFiR7",
    "outputId": "25055586-1abc-4784-d2d3-e80d2809ebbe",
    "tags": []
   },
   "outputs": [],
   "source": [
    "q = 0.5  # set risk factor\n",
    "budget = num_assets // 2  # set budget\n",
    "penalty = num_assets  # set parameter to scale the budget penalty term\n",
    "\n",
    "portfolio = PortfolioOptimization(\n",
    "    expected_returns=mu, covariances=sigma, risk_factor=q, budget=budget\n",
    ")\n",
    "qp = portfolio.to_quadratic_program()\n",
    "qp"
   ]
  },
  {
   "cell_type": "code",
   "execution_count": null,
   "metadata": {
    "tags": []
   },
   "outputs": [],
   "source": [
    "from qiskit_optimization.converters import LinearEqualityToPenalty\n",
    "\n",
    "#removing the constraint to create the QUBO\n",
    "lineq2penalty = LinearEqualityToPenalty(penalty) \n",
    "qubo = lineq2penalty.convert(qp)\n",
    "\n",
    "model = qubo\n",
    "\n",
    "#converting QUBO to an Ising Hamiltonian\n",
    "hamiltonian, offset = qubo.to_ising()\n"
   ]
  },
  {
   "cell_type": "code",
   "execution_count": null,
   "metadata": {
    "id": "nqxEGbOFFiUt",
    "tags": []
   },
   "outputs": [],
   "source": [
    "def print_result(result):\n",
    "    selection = result.x\n",
    "    value = result.fval\n",
    "    print(\"eigen valuue is \", value)\n",
    "    print(\"Optimal: selection {}, value {:.4f}\".format(selection, value))\n",
    "\n",
    "    eigenstate = result.min_eigen_solver_result.eigenstate\n",
    "    print(\"eigenstate is \", eigenstate)\n",
    "    probabilities = (\n",
    "        eigenstate.binary_probabilities()\n",
    "        if isinstance(eigenstate, QuasiDistribution)\n",
    "        else {k: np.abs(v) ** 2 for k, v in eigenstate.to_dict().items()}\n",
    "    )\n",
    "    print(\"\\n----------------- Full result ---------------------\")\n",
    "    print(\"selection\\tvalue\\t\\tprobability\")\n",
    "    print(\"---------------------------------------------------\")\n",
    "    probabilities = sorted(probabilities.items(), key=lambda x: x[1], reverse=True)\n",
    "\n",
    "    for k, v in probabilities:\n",
    "        x = np.array([int(i) for i in list(reversed(k))])\n",
    "        value = portfolio.to_quadratic_program().objective.evaluate(x)\n",
    "        print(\"%10s\\t%.4f\\t\\t%.4f\" % (x, value, v))"
   ]
  },
  {
   "cell_type": "code",
   "execution_count": null,
   "metadata": {
    "colab": {
     "base_uri": "https://localhost:8080/"
    },
    "id": "ZkAvg8F6FxjW",
    "outputId": "b4994e46-5dff-4215-bdfd-e4a6974d744e",
    "tags": []
   },
   "outputs": [],
   "source": [
    "# create an instance of the NumPyMinimumEigensolver class,\n",
    "#which is a classical algorithm for solving eigenvalue problems.\n",
    "exact_mes = NumPyMinimumEigensolver()\n",
    "\n",
    "# create an instance of the MinimumEigenOptimizer class, which is used to solve an optimization problem by\n",
    "# finding its minimum eigenvalue.\n",
    "# The solver used in this case is the exact_mes solver created in the previous step.\n",
    "exact_eigensolver = MinimumEigenOptimizer(exact_mes)\n",
    "\n",
    "# Solve the optimization problem defined by the quadratic program qp using the exact_mes solver\n",
    "result = exact_eigensolver.solve(qp)\n",
    "\n",
    "# print the result of the optimization problem using the print_result function defined earlier.\n",
    "print_result(result)"
   ]
  },
  {
   "cell_type": "code",
   "execution_count": null,
   "metadata": {
    "id": "cbkxoYRpLfRj"
   },
   "outputs": [],
   "source": []
  },
  {
   "cell_type": "code",
   "execution_count": null,
   "metadata": {
    "colab": {
     "base_uri": "https://localhost:8080/"
    },
    "id": "OlsGwwKWLX6-",
    "outputId": "a7587dab-f434-4807-aece-3172d185f6c5",
    "tags": []
   },
   "outputs": [],
   "source": [
    "# AerSimulator.get_backend\n",
    "# provider = IBMQ.load_account()\n",
    "\n",
    "from qiskit import IBMQ\n",
    "\n",
    "IBMQ.save_account('1ddfa37d28b3fce2197adacfda4217a7c2109b76ca66837262506e4f1944f0497c0651b9b1df1be4c707be43c246d4771993e53ce23d39d608f4b208ba8b636c', overwrite=True)\n",
    "provider = IBMQ.load_account()\n",
    "# backend = provider.get_backend('ibm_oslo')\n",
    "provider"
   ]
  },
  {
   "cell_type": "code",
   "execution_count": null,
   "metadata": {
    "colab": {
     "base_uri": "https://localhost:8080/"
    },
    "id": "UfGjB-nQLTSg",
    "outputId": "a13d33d1-4e2a-4c01-e76d-8342f7638b29",
    "tags": []
   },
   "outputs": [],
   "source": [
    "# AerSimulator.get_backend\n",
    "# provider = IBMQ.load_account()\n",
    "\n",
    "# from qiskit import IBMQ\n",
    "\n",
    "# IBMQ.save_account('ee0757e41299179fb8fd3aab7236e79a12eda6a41c2e860c72fcb9a16274068b3f7c86a6b03428677bd874cfd2a41d90794800294648da41d0141a24dce55ce8', overwrite=True)\n",
    "# provider = IBMQ.load_account()\n",
    "# # backend = provider.get_backend('ibm_oslo')\n",
    "# provider\n",
    "\n",
    "\n",
    "\n",
    "from qiskit_aer import AerSimulator, AerProvider\n",
    "from qiskit_aer.noise import NoiseModel\n",
    "# provider = IBMQ.load_account()\n",
    "\n",
    "\n",
    "provider = IBMQ.get_provider(group=\"open\")  # replace by your runtime provider\n",
    "backend = provider.get_backend(\"ibmq_belem\")  # select a backend that supports the runtime\n",
    "# backend = provider.get_backend(\"ibmq_qasm_simulator\")  # select a backend that supports the runtime\n",
    "# backend = provider.get_backend('ibmq_qasm_simulator')\n",
    "# backend = AerSimulator.from_backend(backend)\n",
    "# backend = AerSimulator.from_backend(backend)"
   ]
  },
  {
   "cell_type": "code",
   "execution_count": null,
   "metadata": {
    "id": "fgdQrh1iNvOD",
    "tags": []
   },
   "outputs": [],
   "source": [
    "from qiskit_ibm_runtime import QiskitRuntimeService, Estimator, Session, Options\n",
    "\n",
    "# service = QiskitRuntimeService(channel=\"ibm_quantum\")\n",
    "# backend = service.backend(\"ibmq_qasm_simulator\")\n",
    "\n",
    "cobyla = COBYLA()\n",
    "cobyla.set_options(maxiter=25)\n",
    "ry = TwoLocal(num_assets, \"ry\", \"cz\", reps=3, entanglement=\"full\")\n",
    "initial_point = np.random.random(ry.num_parameters)"
   ]
  },
  {
   "cell_type": "code",
   "execution_count": null,
   "metadata": {
    "tags": []
   },
   "outputs": [],
   "source": [
    "# Error on real backend\n",
    "# Deprecation issues\n",
    "from qiskit_nature.runtime import VQEClient\n",
    "\n",
    "runtime_vqe = VQEClient(\n",
    "    ansatz=ry,\n",
    "    optimizer=cobyla,\n",
    "    initial_point=initial_point,\n",
    "    provider=provider,\n",
    "    backend=backend,\n",
    "    shots=1024,\n",
    "    measurement_error_mitigation=True,\n",
    ")  # use a complete measurement fitter for error mitigation"
   ]
  },
  {
   "cell_type": "code",
   "execution_count": null,
   "metadata": {
    "tags": []
   },
   "outputs": [],
   "source": [
    "# algo = runtime_vqe.compute_minimum_eigenvalue(hamiltonian)\n",
    "# # result = algo.solve(qp)\n",
    "# algo"
   ]
  },
  {
   "cell_type": "code",
   "execution_count": null,
   "metadata": {
    "tags": []
   },
   "outputs": [],
   "source": [
    "# print(algo)"
   ]
  },
  {
   "cell_type": "code",
   "execution_count": null,
   "metadata": {
    "tags": []
   },
   "outputs": [],
   "source": [
    "# selection = result.x\n",
    "# value = result.fval\n",
    "# print(\"eigen valuue is \", value)\n",
    "# print(\"Optimal: selection {}, value {:.4f}\".format(selection, value))"
   ]
  },
  {
   "cell_type": "code",
   "execution_count": null,
   "metadata": {
    "tags": []
   },
   "outputs": [],
   "source": [
    "# eigenstate = algo.eigenstate\n",
    "# print(\"eigenstate is \", eigenstate)\n",
    "# probabilities = (\n",
    "#     eigenstate.binary_probabilities()\n",
    "#     if isinstance(eigenstate, QuasiDistribution)\n",
    "#     else {k: np.abs(v) ** 2 for k, v in eigenstate.items()}\n",
    "# )\n",
    "\n",
    "# probabilities = sorted(probabilities.items(), key=lambda x: x[1], reverse=True)\n",
    "# print(probabilities)\n",
    "\n",
    "\n",
    "# print(\"\\n----------------- Full result ---------------------\")\n",
    "# print(\"selection\\tvalue\\t\\tprobability\")\n",
    "# print(\"---------------------------------------------------\") \n",
    "\n",
    "\n",
    "# for k, v in probabilities:\n",
    "#     x = np.array([int(i) for i in list(reversed(k))])\n",
    "#     value = portfolio.to_quadratic_program().objective.evaluate(x)\n",
    "#     print(\"%10s\\t%.4f\\t\\t%.4f\" % (x, value, v))"
   ]
  },
  {
   "cell_type": "code",
   "execution_count": null,
   "metadata": {
    "tags": []
   },
   "outputs": [],
   "source": [
    "\n",
    "# result_dict = algo.eigenstate\n",
    "# print(result_dict)\n",
    "# result_bitstring = max(result_dict, key = result_dict.get)\n",
    "# # result_bitstring\n",
    "# resulting_number = int(result_bitstring, 2)\n",
    "# resulting_number"
   ]
  },
  {
   "cell_type": "code",
   "execution_count": null,
   "metadata": {
    "tags": []
   },
   "outputs": [],
   "source": [
    "print(ry.depth())"
   ]
  },
  {
   "cell_type": "code",
   "execution_count": null,
   "metadata": {
    "tags": []
   },
   "outputs": [],
   "source": [
    "print(ry.width())"
   ]
  },
  {
   "cell_type": "code",
   "execution_count": null,
   "metadata": {
    "colab": {
     "base_uri": "https://localhost:8080/"
    },
    "id": "CgtC_AdILn-C",
    "outputId": "37bd9d0b-c8cf-4f80-8803-d5a09450d35a",
    "tags": []
   },
   "outputs": [],
   "source": [
    "from qiskit.utils import algorithm_globals\n",
    "\n",
    "# backend = AerSimulator.from_backend(backend)\n",
    "\n",
    "algorithm_globals.random_seed = 1234\n",
    "\n",
    "# Line not working,\n",
    "# Need to queue it in the actual QPU\n",
    "backend = provider.get_backend(\"ibmq_belem\")\n",
    "\n",
    "cobyla = COBYLA()\n",
    "cobyla.set_options(maxiter=500)\n",
    "ry = TwoLocal(num_assets, \"ry\", \"cz\", reps=3, entanglement=\"full\")\n",
    "\n",
    "# Pass real backend in the Sampler class\n",
    "vqe_mes = SamplingVQE(sampler=Sampler(), ansatz=ry, optimizer=cobyla)\n",
    "\n",
    "# Runs on the Aersimulator(backend) instead of the real backend\n",
    "# vqe_mes = SamplingVQE(sampler=Sampler(backend_options=backend), ansatz=ry, optimizer=cobyla)\n",
    "\n",
    "# Possible ways to get the answer -\n",
    "# 1. Remove Aersimulator from the Sampler class and hardcode it such that it takes real QPU as backend\n",
    "# 2.\n",
    "\n",
    "# Analyze these three classes - SamplingVQE, SamplingMinimumEigensolverResult, MinimumEigenOptimizer\n",
    "# How? - 1. Input, 2. Output\n",
    "\n",
    "# Understand the MinimumEigenOptimizer and the solve() method\n",
    "vqe = MinimumEigenOptimizer(vqe_mes)\n",
    "result = vqe.solve(qp)\n",
    "# HERE IS THE SOLVE() METHOD\n",
    "\n",
    "# print(\"result is \", result)\n",
    "# print(\"selected backend is \", backend)\n",
    "# print_result(result)"
   ]
  },
  {
   "cell_type": "code",
   "execution_count": null,
   "outputs": [],
   "source": [],
   "metadata": {
    "collapsed": false
   }
  },
  {
   "cell_type": "code",
   "execution_count": null,
   "metadata": {
    "colab": {
     "base_uri": "https://localhost:8080/",
     "height": 817
    },
    "id": "zgOC32Mn0NPd",
    "outputId": "6bb4a8e9-0c81-4551-859b-bbcebea5b642",
    "tags": []
   },
   "outputs": [],
   "source": [
    "ry.decompose().draw()"
   ]
  },
  {
   "cell_type": "code",
   "execution_count": null,
   "metadata": {
    "colab": {
     "base_uri": "https://localhost:8080/"
    },
    "id": "F5ZBk8MQ1kVe",
    "outputId": "6674a0b6-4d11-4d04-cd9c-ed12f96b201c",
    "tags": []
   },
   "outputs": [],
   "source": [
    "circ_count = ry.decompose().count_ops()\n",
    "circ_count"
   ]
  },
  {
   "cell_type": "code",
   "execution_count": null,
   "metadata": {
    "colab": {
     "base_uri": "https://localhost:8080/"
    },
    "id": "nLetAdZAF1mN",
    "outputId": "ceed485a-4283-4194-cb05-26c511d6b0fb",
    "tags": []
   },
   "outputs": [],
   "source": [
    "from qiskit.utils import algorithm_globals\n",
    "\n",
    "algorithm_globals.random_seed = 1234\n",
    "\n",
    "cobyla = COBYLA()\n",
    "cobyla.set_options(maxiter=500)\n",
    "ry = TwoLocal(num_assets, \"ry\", \"cz\", reps=3, entanglement=\"full\")\n",
    "vqe_mes = SamplingVQE(sampler=Sampler(), ansatz=ry, optimizer=cobyla)\n",
    "\n",
    "\n",
    "# Try to print this and compare these test witsh ---\n",
    "# If the results are matching  . . . \n",
    "# But, significant post-processing will be required\n",
    "\n",
    "tests = vqe_mes.compute_minimum_eigenvalue(hamiltonian)\n",
    "print(tests)\n",
    "\n",
    "# SamplingMinimumEigensolverResult:\n",
    "\n",
    "# Read bitstring right to left -- 10010\n",
    "\n",
    "# vqe = MinimumEigenOptimizer(vqe_mes)\n",
    "# result = vqe.solve(qp)\n",
    "\n",
    "# print_result(result)"
   ]
  },
  {
   "cell_type": "code",
   "execution_count": null,
   "metadata": {},
   "outputs": [],
   "source": []
  },
  {
   "cell_type": "code",
   "execution_count": null,
   "metadata": {
    "colab": {
     "base_uri": "https://localhost:8080/"
    },
    "id": "y7FvmbZFF56i",
    "outputId": "aca64621-7286-42ac-d0ab-66a6fb421848",
    "tags": []
   },
   "outputs": [],
   "source": [
    "algorithm_globals.random_seed = 1234\n",
    "\n",
    "cobyla = COBYLA()\n",
    "cobyla.set_options(maxiter=250)\n",
    "\n",
    "# Problem Statement \n",
    "# Sampling VQE takes real QPU as backend. \n",
    "# shouldn't go through AER simulator, need real QPU. \n",
    "# Go through github repo, all connected files \n",
    "#\n",
    "\n",
    "# Value corresponding to the number: quasi distribution\n",
    "#\n",
    "\n",
    "qaoa_mes = QAOA(sampler=Sampler(), optimizer=cobyla, reps=3)\n",
    "qaoa = MinimumEigenOptimizer(qaoa_mes)\n",
    "result = qaoa.solve(qp)\n",
    "\n",
    "print_result(result)"
   ]
  },
  {
   "cell_type": "code",
   "execution_count": null,
   "metadata": {},
   "outputs": [],
   "source": []
  },
  {
   "cell_type": "code",
   "execution_count": null,
   "metadata": {
    "tags": []
   },
   "outputs": [],
   "source": [
    "# from qiskit.utils import algorithm_globals\n",
    "\n",
    "# backend = AerSimulator.from_backend(backend)\n",
    "\n",
    "# algorithm_globals.random_seed = 1234\n",
    "\n",
    "# options = Options()\n",
    "# options.optimization_level = 2\n",
    "# options.resilience_level = 3\n",
    "\n",
    "\n",
    "# cobyla = COBYLA()\n",
    "# cobyla.set_options(maxiter=20)\n",
    "\n",
    "# estimator = Estimator(session=backend, options = options)\n",
    "\n",
    "# ry = TwoLocal(num_assets, \"ry\", \"cz\", reps=3, entanglement=\"full\")\n",
    "# vqe_mes = SamplingVQE(sampler=estimator, ansatz=ry, optimizer=cobyla)\n",
    "# # vqe = MinimumEigenOptimizer(vqe_mes)\n",
    "# # result = vqe.solve(qp)\n",
    "\n",
    "\n",
    "# print(\"result is \", result)\n",
    "# print(\"selected backend is \", backend)\n",
    "# print_result(result)"
   ]
  },
  {
   "cell_type": "code",
   "execution_count": null,
   "metadata": {
    "id": "XicjMXB4F9TS",
    "tags": []
   },
   "outputs": [],
   "source": [
    "from qiskit.algorithms.minimum_eigensolvers import VQE\n",
    "from qiskit.algorithms.optimizers import OptimizerResult\n",
    "from qiskit_optimization.algorithms import CplexOptimizer\n",
    "\n",
    "options = Options()\n",
    "options.optimization_level = 2\n",
    "options.resilience_level = 1\n",
    "\n",
    "backend = \"simulator_statevector\"\n",
    "estimator = Estimator(session=backend, options=options)\n",
    "\n",
    "vqe = VQE(\n",
    "        estimator,\n",
    "        ry,\n",
    "        COBYLA(1),\n",
    "        initial_point=initial_point,\n",
    "        # callback=log.update  \n",
    "    )\n",
    "## VQE ESTIMATOR - - - - Restuls to be compared\n",
    "\n",
    "result = vqe.compute_minimum_eigenvalue(hamiltonian)\n",
    "# Gives optimal values of all theta\n",
    "\n",
    "# Output of the rest - - output of the tests \n",
    "# print(f\"full result: {result}\")\n",
    "print(\"\\n \\n \")\n",
    "\n",
    "# Problem Statement \n",
    "# Sampling VQE takes real QPU as backend. \n",
    "\n",
    "\n",
    "# classical_algo = CplexOptimizer(result)\n",
    "# bitstring = classical_algo.solve(qp)\n",
    "# Objective\n",
    "# print(bitstring)\n",
    "\n",
    "# Not getting the optimal bitstring"
   ]
  },
  {
   "cell_type": "markdown",
   "metadata": {},
   "source": []
  },
  {
   "cell_type": "code",
   "execution_count": null,
   "metadata": {
    "tags": []
   },
   "outputs": [],
   "source": [
    "print(\"Optimal Circuit - \",result.optimal_circuit , \"\\n\")\n",
    "print(\"Eigenvalue -  \", result.eigenvalue, \"\\n\")\n",
    "print(\"Cost function evals - \",result.cost_function_evals,\"\\n\")\n",
    "print(\"Optimal Point - \",result.optimal_point, \"\\n\")\n",
    "print(\"Optimizer Time - \",result.optimizer_time, \"\\n\")\n",
    "print(\"Aux Operators Evals - \", result.aux_operators_evaluated, \"\\n\")\n",
    "print(\"Optimizer Result - \",result.optimizer_result, \"\\n\")"
   ]
  },
  {
   "cell_type": "code",
   "execution_count": null,
   "metadata": {},
   "outputs": [],
   "source": []
  },
  {
   "cell_type": "code",
   "execution_count": null,
   "metadata": {
    "tags": []
   },
   "outputs": [],
   "source": [
    "from quantum_portfolio_optimization_main.src.solver.vqe.vqe_solver import VQESolver\n",
    "\n",
    "\n",
    "from qiskit import BasicAer\n",
    "from qiskit.utils import QuantumInstance\n",
    "from qiskit.circuit.library import TwoLocal\n",
    "from qiskit.algorithms.optimizers import SLSQP\n",
    "\n",
    "cov = stocks_return.cov()\n",
    "\n",
    "seed = 123\n",
    "\n",
    "\n",
    "vqe = VQESolver()\n",
    "vqe.qp(Cov = cov, mu = mu)\n",
    "vqe.to_ising(Nq = hamiltonian)\n",
    "\n",
    "# Prepare QuantumInstance\n",
    "qi = QuantumInstance(backend, seed_transpiler=seed, seed_simulator=seed)\n",
    "\n",
    "# Select the VQE parameters\n",
    "# N = cov.shape[0]\n",
    "ansatz = TwoLocal(num_qubits= hamiltonian.num_qubits, \n",
    "                    rotation_blocks=['ry','rz'], \n",
    "                    entanglement_blocks='cz',\n",
    "                    reps=3,\n",
    "                    entanglement='full')\n",
    "slsqp = SLSQP(maxiter= 100)\n",
    "vqe.vqe_instance(ansatz=ansatz, optimizer=slsqp, quantum_instance=qi)\n",
    "\n",
    "res_vqe = vqe.solve()\n",
    "print(res_vqe)"
   ]
  },
  {
   "cell_type": "code",
   "execution_count": null,
   "metadata": {},
   "outputs": [],
   "source": [
    "probs = result.eigenstate.binary_probabilities()\n",
    "probs"
   ]
  },
  {
   "cell_type": "code",
   "execution_count": null,
   "metadata": {},
   "outputs": [],
   "source": []
  },
  {
   "cell_type": "code",
   "execution_count": null,
   "metadata": {},
   "outputs": [],
   "source": [
    "from typing import List, Optional, Union, cast\n",
    "\n",
    "import numpy as np\n",
    "from qiskit.algorithms.minimum_eigen_solvers import MinimumEigensolver as LegacyMinimumEigensolver\n",
    "from qiskit.algorithms.minimum_eigen_solvers import (\n",
    "    MinimumEigensolverResult as LegacyMinimumEigensolverResult,\n",
    ")\n",
    "from qiskit.algorithms.minimum_eigensolvers import (\n",
    "    NumPyMinimumEigensolver,\n",
    "    NumPyMinimumEigensolverResult,\n",
    "    SamplingMinimumEigensolver,\n",
    "    SamplingMinimumEigensolverResult,\n",
    "    VQE,\n",
    ")\n",
    "from qiskit.opflow import OperatorBase, PauliOp, PauliSumOp\n",
    "\n",
    "# from ..converters.quadratic_program_to_qubo import QuadraticProgramConverter, QuadraticProgramToQubo\n",
    "# from ..exceptions import QiskitOptimizationError\n",
    "# from ..problems.quadratic_program import QuadraticProgram, Variable\n",
    "# from .optimization_algorithm import (\n",
    "#     OptimizationAlgorithm,\n",
    "#     OptimizationResult,\n",
    "#     OptimizationResultStatus,\n",
    "#     SolutionSample,\n",
    "# )\n",
    "\n",
    "from qiskit.\n",
    "\n",
    "MinimumEigensolver = Union[\n",
    "    SamplingMinimumEigensolver, NumPyMinimumEigensolver, LegacyMinimumEigensolver\n",
    "]\n",
    "MinimumEigensolverResult = Union[\n",
    "    SamplingMinimumEigensolverResult, NumPyMinimumEigensolverResult, LegacyMinimumEigensolverResult\n",
    "]"
   ]
  },
  {
   "cell_type": "code",
   "execution_count": null,
   "metadata": {},
   "outputs": [],
   "source": [
    "# This code is part of Qiskit.\n",
    "#\n",
    "# (C) Copyright IBM 2020, 2022.\n",
    "#\n",
    "# This code is licensed under the Apache License, Version 2.0. You may\n",
    "# obtain a copy of this license in the LICENSE.txt file in the root directory\n",
    "# of this source tree or at http://www.apache.org/licenses/LICENSE-2.0.\n",
    "#\n",
    "# Any modifications or derivative works of this code must retain this\n",
    "# copyright notice, and modified files need to carry a notice indicating\n",
    "# that they have been altered from the originals.\n",
    "\n",
    "\"\"\"A wrapper for minimum eigen solvers to be used within the optimization module.\"\"\"\n",
    "from typing import List, Optional, Union, cast\n",
    "\n",
    "import numpy as np\n",
    "from qiskit.algorithms.minimum_eigen_solvers import MinimumEigensolver as LegacyMinimumEigensolver\n",
    "from qiskit.algorithms.minimum_eigen_solvers import (\n",
    "    MinimumEigensolverResult as LegacyMinimumEigensolverResult,\n",
    ")\n",
    "from qiskit.algorithms.minimum_eigensolvers import (\n",
    "    NumPyMinimumEigensolver,\n",
    "    NumPyMinimumEigensolverResult,\n",
    "    SamplingMinimumEigensolver,\n",
    "    SamplingMinimumEigensolverResult,\n",
    "    VQE,\n",
    ")\n",
    "from qiskit.opflow import OperatorBase, PauliOp, PauliSumOp\n",
    "\n",
    "from ..converters.quadratic_program_to_qubo import QuadraticProgramConverter, QuadraticProgramToQubo\n",
    "from ..exceptions import QiskitOptimizationError\n",
    "from ..problems.quadratic_program import QuadraticProgram, Variable\n",
    "from .optimization_algorithm import (\n",
    "    OptimizationAlgorithm,\n",
    "    OptimizationResult,\n",
    "    OptimizationResultStatus,\n",
    "    SolutionSample,\n",
    ")\n",
    "\n",
    "MinimumEigensolver = Union[\n",
    "    SamplingMinimumEigensolver, NumPyMinimumEigensolver, LegacyMinimumEigensolver\n",
    "]\n",
    "MinimumEigensolverResult = Union[\n",
    "    SamplingMinimumEigensolverResult, NumPyMinimumEigensolverResult, LegacyMinimumEigensolverResult\n",
    "]\n",
    "\n",
    "\n",
    "class MinimumEigenOptimizationResult(OptimizationResult):\n",
    "    \"\"\"Minimum Eigen Optimizer Result.\"\"\"\n",
    "\n",
    "    def __init__(\n",
    "        self,\n",
    "        x: Optional[Union[List[float], np.ndarray]],\n",
    "        fval: Optional[float],\n",
    "        variables: List[Variable],\n",
    "        status: OptimizationResultStatus,\n",
    "        samples: Optional[List[SolutionSample]] = None,\n",
    "        min_eigen_solver_result: Optional[MinimumEigensolverResult] = None,\n",
    "        raw_samples: Optional[List[SolutionSample]] = None,\n",
    "    ) -> None:\n",
    "        \"\"\"\n",
    "        Args:\n",
    "            x: the optimal value found by ``MinimumEigensolver``.\n",
    "            fval: the optimal function value.\n",
    "            variables: the list of variables of the optimization problem.\n",
    "            status: the termination status of the optimization algorithm.\n",
    "            min_eigen_solver_result: the result obtained from the underlying algorithm.\n",
    "            samples: the x values, the objective function value of the original problem,\n",
    "                the probability, and the status of sampling.\n",
    "            raw_samples: the x values of the QUBO, the objective function value of the QUBO,\n",
    "                and the probability of sampling.\n",
    "        \"\"\"\n",
    "        super().__init__(\n",
    "            x=x,\n",
    "            fval=fval,\n",
    "            variables=variables,\n",
    "            status=status,\n",
    "            raw_results=None,\n",
    "            samples=samples,\n",
    "        )\n",
    "        self._min_eigen_solver_result = min_eigen_solver_result\n",
    "        self._raw_samples = raw_samples\n",
    "\n",
    "    @property\n",
    "    def min_eigen_solver_result(self) -> MinimumEigensolverResult:\n",
    "        \"\"\"Returns a result object obtained from the instance of :class:`MinimumEigensolver`.\"\"\"\n",
    "        return self._min_eigen_solver_result\n",
    "\n",
    "    @property\n",
    "    def raw_samples(self) -> Optional[List[SolutionSample]]:\n",
    "        \"\"\"Returns the list of raw solution samples of ``MinimumEigensolver``.\n",
    "\n",
    "        Returns:\n",
    "            The list of raw solution samples of ``MinimumEigensolver``.\n",
    "        \"\"\"\n",
    "        return self._raw_samples\n",
    "\n",
    "\n",
    "class MinimumEigenOptimizer(OptimizationAlgorithm):\n",
    "    \"\"\"A wrapper for minimum eigen solvers.\n",
    "\n",
    "    This class provides a wrapper for minimum eigen solvers from Qiskit to be used within\n",
    "    the optimization module.\n",
    "    It assumes a problem consisting only of binary or integer variables as well as linear equality\n",
    "    constraints thereof. It converts such a problem into a Quadratic Unconstrained Binary\n",
    "    Optimization (QUBO) problem by expanding integer variables into binary variables and by adding\n",
    "    the linear equality constraints as weighted penalty terms to the objective function. The\n",
    "    resulting QUBO is then translated into an Ising Hamiltonian whose minimal eigen vector and\n",
    "    corresponding eigenstate correspond to the optimal solution of the original optimization\n",
    "    problem. The provided minimum eigen solver is then used to approximate the ground state of the\n",
    "    Hamiltonian to find a good solution for the optimization problem.\n",
    "\n",
    "    Examples:\n",
    "        Outline of how to use this class:\n",
    "\n",
    "    .. code-block::\n",
    "\n",
    "        from qiskit.algorithms.minimum_eigensolver import QAOA\n",
    "        from qiskit_optimization.problems import QuadraticProgram\n",
    "        from qiskit_optimization.algorithms import MinimumEigenOptimizer\n",
    "        problem = QuadraticProgram()\n",
    "        # specify problem here\n",
    "        # specify minimum eigen solver to be used, e.g., QAOA\n",
    "        qaoa = QAOA(...)\n",
    "        optimizer = MinimumEigenOptimizer(qaoa)\n",
    "        result = optimizer.solve(problem)\n",
    "    \"\"\"\n",
    "\n",
    "    def __init__(\n",
    "        self,\n",
    "        min_eigen_solver: MinimumEigensolver,\n",
    "        penalty: Optional[float] = None,\n",
    "        converters: Optional[\n",
    "            Union[QuadraticProgramConverter, List[QuadraticProgramConverter]]\n",
    "        ] = None,\n",
    "    ) -> None:\n",
    "        \"\"\"\n",
    "        This initializer takes the minimum eigen solver to be used to approximate the ground state\n",
    "        of the resulting Hamiltonian as well as a optional penalty factor to scale penalty terms\n",
    "        representing linear equality constraints. If no penalty factor is provided, a default\n",
    "        is computed during the algorithm (TODO).\n",
    "\n",
    "        Args:\n",
    "            min_eigen_solver: The eigen solver to find the ground state of the Hamiltonian.\n",
    "            penalty: The penalty factor to be used, or ``None`` for applying a default logic.\n",
    "            converters: The converters to use for converting a problem into a different form.\n",
    "                By default, when None is specified, an internally created instance of\n",
    "                :class:`~qiskit_optimization.converters.QuadraticProgramToQubo` will be used.\n",
    "\n",
    "        Raises:\n",
    "            TypeError: If minimum eigensolver has an invalid type.\n",
    "            TypeError: When one of converters has an invalid type.\n",
    "            QiskitOptimizationError: When the minimum eigensolver does not return an eigenstate.\n",
    "        \"\"\"\n",
    "        if isinstance(min_eigen_solver, VQE):\n",
    "            raise TypeError(\n",
    "                \"MinimumEigenOptimizer does not support this VQE. You can use  \"\n",
    "                \"qiskit.algorithms.minimum_eigensolvers.SamplingVQE instead.\"\n",
    "            )\n",
    "        if not isinstance(\n",
    "            min_eigen_solver,\n",
    "            (SamplingMinimumEigensolver, NumPyMinimumEigensolver, LegacyMinimumEigensolver),\n",
    "        ):\n",
    "            raise TypeError(\n",
    "                \"MinimumEigenOptimizer supports \"\n",
    "                \"qiskit.algorithms.minimum_eigensolvers.SamplingMinimumEigensolver, \"\n",
    "                \"qiskit.algorithms.minimum_eigensolvers.NumPyMinimumEigensolver, and \"\n",
    "                \"qiskit.algorithms.minimum_eigen_solvers.MinimumEigensolver. \"\n",
    "                f\"But {type(min_eigen_solver)} is given.\"\n",
    "            )\n",
    "        if not min_eigen_solver.supports_aux_operators():\n",
    "            raise QiskitOptimizationError(\n",
    "                \"Given MinimumEigensolver does not return the eigenstate \"\n",
    "                \"and is not supported by the MinimumEigenOptimizer.\"\n",
    "            )\n",
    "        self._min_eigen_solver = min_eigen_solver\n",
    "        self._penalty = penalty\n",
    "\n",
    "        self._converters = self._prepare_converters(converters, penalty)\n",
    "\n",
    "    def get_compatibility_msg(self, problem: QuadraticProgram) -> str:\n",
    "        \"\"\"Checks whether a given problem can be solved with this optimizer.\n",
    "\n",
    "        Checks whether the given problem is compatible, i.e., whether the problem can be converted\n",
    "        to a QUBO, and otherwise, returns a message explaining the incompatibility.\n",
    "\n",
    "        Args:\n",
    "            problem: The optimization problem to check compatibility.\n",
    "\n",
    "        Returns:\n",
    "            A message describing the incompatibility.\n",
    "        \"\"\"\n",
    "        return QuadraticProgramToQubo.get_compatibility_msg(problem)\n",
    "\n",
    "    @property\n",
    "    def min_eigen_solver(self) -> MinimumEigensolver:\n",
    "        \"\"\"Returns the minimum eigensolver.\"\"\"\n",
    "        return self._min_eigen_solver\n",
    "\n",
    "    @min_eigen_solver.setter\n",
    "    def min_eigen_solver(self, min_eigen_solver: MinimumEigensolver) -> None:\n",
    "        \"\"\"Sets the minimum eigensolver.\"\"\"\n",
    "        self._min_eigen_solver = min_eigen_solver\n",
    "\n",
    "    \n",
    "    def _solve_internal(\n",
    "        self,\n",
    "        operator: OperatorBase,\n",
    "        offset: float,\n",
    "        converted_problem: QuadraticProgram,\n",
    "        original_problem: QuadraticProgram,\n",
    "    ):\n",
    "        # only try to solve non-empty Ising Hamiltonians\n",
    "        eigen_result: Optional[MinimumEigensolverResult] = None\n",
    "        if operator.num_qubits > 0:\n",
    "            # NumPyEigensolver does not accept PauliOp but PauliSumOp\n",
    "            if isinstance(operator, PauliOp):\n",
    "                operator = PauliSumOp.from_list([(operator.primitive.to_label(), operator.coeff)])\n",
    "            # approximate ground state of operator using min eigen solver\n",
    "            eigen_result = self._min_eigen_solver.compute_minimum_eigenvalue(operator)\n",
    "            print(\"eigenresult \",eigen_result)\n",
    "            # analyze results\n",
    "            raw_samples = None\n",
    "            if eigen_result.eigenstate is not None:\n",
    "                raw_samples = self._eigenvector_to_solutions(\n",
    "                    eigen_result.eigenstate, converted_problem\n",
    "                )\n",
    "                raw_samples.sort(key=lambda x: x.fval)\n",
    "        else:\n",
    "            # if Hamiltonian is empty, then the objective function is constant to the offset\n",
    "            x = np.zeros(converted_problem.get_num_binary_vars())\n",
    "            fval = offset\n",
    "            raw_samples = [SolutionSample(x, fval, 1.0, OptimizationResultStatus.SUCCESS)]\n",
    "\n",
    "        if raw_samples is None:\n",
    "            # if not function value is given, then something went wrong, e.g., a\n",
    "            # NumPyMinimumEigensolver has been configured with an infeasible filter criterion.\n",
    "            return MinimumEigenOptimizationResult(\n",
    "                x=None,\n",
    "                fval=None,\n",
    "                variables=original_problem.variables,\n",
    "                status=OptimizationResultStatus.FAILURE,\n",
    "                samples=None,\n",
    "                raw_samples=None,\n",
    "                min_eigen_solver_result=eigen_result,\n",
    "            )\n",
    "\n",
    "        # translate result back to integers and eventually maximization\n",
    "        samples, best_raw = self._interpret_samples(original_problem, raw_samples, self._converters)\n",
    "        return cast(\n",
    "            MinimumEigenOptimizationResult,\n",
    "            self._interpret(\n",
    "                x=best_raw.x,\n",
    "                converters=self._converters,\n",
    "                problem=original_problem,\n",
    "                result_class=MinimumEigenOptimizationResult,\n",
    "                samples=samples,\n",
    "                raw_samples=raw_samples,\n",
    "                min_eigen_solver_result=eigen_result,\n",
    "            ),\n",
    "        )\n"
   ]
  },
  {
   "cell_type": "code",
   "execution_count": null,
   "metadata": {},
   "outputs": [],
   "source": [
    "def solve(self, problem: QuadraticProgram) -> MinimumEigenOptimizationResult:\n",
    "        \"\"\"Tries to solves the given problem using the optimizer.\n",
    "\n",
    "        Runs the optimizer to try to solve the optimization problem.\n",
    "\n",
    "        Args:\n",
    "            problem: The problem to be solved.\n",
    "\n",
    "        Returns:\n",
    "            The result of the optimizer applied to the problem.\n",
    "\n",
    "        Raises:\n",
    "            QiskitOptimizationError: If problem not compatible.\n",
    "        \"\"\"\n",
    "        self._verify_compatibility(problem)\n",
    "\n",
    "        # convert problem to QUBO minimization problem\n",
    "        problem_ = self._convert(problem, self._converters)\n",
    "\n",
    "        # construct operator and offset\n",
    "        operator, offset = problem_.to_ising()\n",
    "\n",
    "        return self._solve_internal(operator, offset, problem_, problem)\n"
   ]
  },
  {
   "cell_type": "code",
   "execution_count": null,
   "metadata": {},
   "outputs": [],
   "source": [
    "\n",
    "@property\n",
    "def min_eigen_solver_result(self) -> MinimumEigensolverResult:\n",
    "    \"\"\"Returns a result object obtained from the instance of :class:`MinimumEigensolver`.\"\"\"\n",
    "    return self._min_eigen_solver_result\n",
    "\n",
    "@property\n",
    "def raw_samples(self) -> Optional[List[SolutionSample]]:\n",
    "    \"\"\"Returns the list of raw solution samples of ``MinimumEigensolver``.\n",
    "\n",
    "    Returns:\n",
    "        The list of raw solution samples of ``MinimumEigensolver``.\n",
    "    \"\"\"\n",
    "    return self._raw_samples\n"
   ]
  },
  {
   "cell_type": "code",
   "execution_count": null,
   "metadata": {},
   "outputs": [],
   "source": [
    "eigen_result = min_eigen_solver_result.compute_minimum_eigenvalue(operator)\n",
    "print(\"eigenresult \",eigen_result)"
   ]
  },
  {
   "cell_type": "code",
   "execution_count": null,
   "metadata": {},
   "outputs": [],
   "source": [
    "opt_result = my_minimizer(qp, initial_point)\n",
    "print(opt_result)"
   ]
  },
  {
   "cell_type": "code",
   "execution_count": null,
   "metadata": {},
   "outputs": [],
   "source": [
    "init_guess = np.random.dirichlet(np.ones(num_assets),size=1)\n",
    "print(init_guess)"
   ]
  },
  {
   "cell_type": "code",
   "execution_count": null,
   "metadata": {},
   "outputs": [],
   "source": [
    "from scipy.optimize import minimize\n",
    "# expectation = get_expectation(graph)\n",
    "res = minimize(qp,\n",
    "               init_guess,\n",
    "               method='COBYLA')\n",
    "res"
   ]
  },
  {
   "cell_type": "code",
   "execution_count": null,
   "metadata": {},
   "outputs": [],
   "source": [
    "opt_result = my_minimizer(qp, init_guess)\n",
    "opt_result"
   ]
  },
  {
   "cell_type": "code",
   "execution_count": null,
   "metadata": {},
   "outputs": [],
   "source": [
    "opt_result.x"
   ]
  },
  {
   "cell_type": "markdown",
   "metadata": {
    "id": "3oggq_kdF_V4"
   },
   "source": []
  },
  {
   "cell_type": "markdown",
   "metadata": {
    "id": "-8Z2N0tuF_Yp"
   },
   "source": [
    "# portfolio diversification "
   ]
  },
  {
   "cell_type": "code",
   "execution_count": null,
   "metadata": {
    "id": "PE0qva_y9ZE-"
   },
   "outputs": [],
   "source": [
    "# Import requisite modules\n",
    "import math\n",
    "import datetime\n",
    "\n",
    "import numpy as np\n",
    "import matplotlib.pyplot as plt\n",
    "\n",
    "%matplotlib inline\n",
    "\n",
    "# Import Qiskit packages\n",
    "from qiskit.algorithms.minimum_eigensolvers import NumPyMinimumEigensolver, QAOA, SamplingVQE\n",
    "from qiskit.algorithms.optimizers import COBYLA\n",
    "from qiskit.circuit.library import TwoLocal\n",
    "from qiskit_aer.primitives import Sampler\n",
    "from qiskit_optimization.algorithms import MinimumEigenOptimizer\n",
    "\n",
    "# The data providers of stock-market data\n",
    "from qiskit_finance.data_providers import RandomDataProvider\n",
    "from qiskit_finance.applications.optimization import PortfolioDiversification"
   ]
  },
  {
   "cell_type": "code",
   "execution_count": null,
   "metadata": {
    "colab": {
     "base_uri": "https://localhost:8080/"
    },
    "id": "L6Qr5xCdQviM",
    "outputId": "c313c961-94a1-4cb5-d1a8-feb23d79e0a4"
   },
   "outputs": [],
   "source": [
    "# Generate a pairwise time-series similarity matrix\n",
    "seed = 123\n",
    "# set number of assets (= number of qubits)\n",
    "num_assets = 4\n",
    "seed = 123\n",
    "\n",
    "# Generate expected return and covariance matrix from (random) time-series\n",
    "stocks = ['AAPL','GS', 'JPM', 'MSFT', 'V']\n",
    "data = RandomDataProvider(\n",
    "    tickers=stocks,\n",
    "    start=datetime.datetime(2016, 1, 1),\n",
    "    end=datetime.datetime(2016, 1, 30),\n",
    "    seed=seed,\n",
    ")\n",
    "data.run()\n",
    "\n",
    "rho = data.get_similarity_matrix()\n",
    "rho"
   ]
  },
  {
   "cell_type": "code",
   "execution_count": null,
   "metadata": {
    "id": "PQhgwppJQ3zo"
   },
   "outputs": [],
   "source": [
    "q = 1  # q less or equal than n\n",
    "n = num_assets"
   ]
  },
  {
   "cell_type": "code",
   "execution_count": null,
   "metadata": {
    "id": "_FVrpQusRTf9"
   },
   "outputs": [],
   "source": [
    "import math\n",
    "\n",
    "class ClassicalOptimizer:\n",
    "    def __init__(self, rho, n, q):\n",
    "\n",
    "        self.rho = rho\n",
    "        self.n = n  # number of inner variables\n",
    "        self.q = q  # number of required selection\n",
    "\n",
    "    def compute_allowed_combinations(self):\n",
    "        f = math.factorial\n",
    "        return int(f(self.n) / f(self.q) / f(self.n - self.q))\n",
    "\n",
    "    def cplex_solution(self):\n",
    "\n",
    "        # refactoring\n",
    "        rho = self.rho\n",
    "        n = self.n\n",
    "        q = self.q\n",
    "\n",
    "        my_obj = list(rho.reshape(1, n**2)[0]) + [0.0 for x in range(0, n)]\n",
    "        my_ub = [1 for x in range(0, n**2 + n)]\n",
    "        my_lb = [0 for x in range(0, n**2 + n)]\n",
    "        my_ctype = \"\".join([\"I\" for x in range(0, n**2 + n)])\n",
    "\n",
    "        my_rhs = (\n",
    "            [q]\n",
    "            + [1 for x in range(0, n)]\n",
    "            + [0 for x in range(0, n)]\n",
    "            + [0.1 for x in range(0, n**2)]\n",
    "        )\n",
    "        my_sense = (\n",
    "            \"\".join([\"E\" for x in range(0, 1 + n)])\n",
    "            + \"\".join([\"E\" for x in range(0, n)])\n",
    "            + \"\".join([\"L\" for x in range(0, n**2)])\n",
    "        )\n",
    "\n",
    "        try:\n",
    "            my_prob = cplex.Cplex()\n",
    "            self.populatebyrow(my_prob, my_obj, my_ub, my_lb, my_ctype, my_sense, my_rhs)\n",
    "\n",
    "            my_prob.solve()\n",
    "\n",
    "        except CplexError as exc:\n",
    "            print(exc)\n",
    "            return\n",
    "\n",
    "        x = my_prob.solution.get_values()\n",
    "        x = np.array(x)\n",
    "        cost = my_prob.solution.get_objective_value()\n",
    "\n",
    "        return x, cost\n",
    "\n",
    "    def populatebyrow(self, prob, my_obj, my_ub, my_lb, my_ctype, my_sense, my_rhs):\n",
    "\n",
    "        n = self.n\n",
    "\n",
    "        prob.objective.set_sense(prob.objective.sense.minimize)\n",
    "        prob.variables.add(obj=my_obj, lb=my_lb, ub=my_ub, types=my_ctype)\n",
    "\n",
    "        prob.set_log_stream(None)\n",
    "        prob.set_error_stream(None)\n",
    "        prob.set_warning_stream(None)\n",
    "        prob.set_results_stream(None)\n",
    "\n",
    "        rows = []\n",
    "        col = [x for x in range(n**2, n**2 + n)]\n",
    "        coef = [1 for x in range(0, n)]\n",
    "        rows.append([col, coef])\n",
    "\n",
    "        for ii in range(0, n):\n",
    "            col = [x for x in range(0 + n * ii, n + n * ii)]\n",
    "            coef = [1 for x in range(0, n)]\n",
    "\n",
    "            rows.append([col, coef])\n",
    "\n",
    "        for ii in range(0, n):\n",
    "            col = [ii * n + ii, n**2 + ii]\n",
    "            coef = [1, -1]\n",
    "            rows.append([col, coef])\n",
    "\n",
    "        for ii in range(0, n):\n",
    "            for jj in range(0, n):\n",
    "                col = [ii * n + jj, n**2 + jj]\n",
    "                coef = [1, -1]\n",
    "\n",
    "                rows.append([col, coef])\n",
    "\n",
    "        prob.linear_constraints.add(lin_expr=rows, senses=my_sense, rhs=my_rhs)"
   ]
  },
  {
   "cell_type": "code",
   "execution_count": null,
   "metadata": {
    "colab": {
     "base_uri": "https://localhost:8080/"
    },
    "id": "64AmBBB8RkC-",
    "outputId": "04e8efb0-6746-4eb4-9880-e621a6714699"
   },
   "outputs": [],
   "source": [
    "# Instantiate the classical optimizer class\n",
    "classical_optimizer = ClassicalOptimizer(rho, n, q)\n",
    "\n",
    "# Compute the number of feasible solutions:\n",
    "print(\"Number of feasible combinations= \" + str(classical_optimizer.compute_allowed_combinations()))\n",
    "\n",
    "# Compute the total number of possible combinations (feasible + unfeasible)\n",
    "print(\"Total number of combinations= \" + str(2 ** (n * (n + 1))))"
   ]
  },
  {
   "cell_type": "code",
   "execution_count": null,
   "metadata": {
    "id": "wLFhWgCgRosg"
   },
   "outputs": [],
   "source": [
    "#  Visualize the solution\n",
    "def visualize_solution(xc, yc, x, C, n, K, title_str):\n",
    "    plt.figure()\n",
    "    plt.scatter(xc, yc, s=200)\n",
    "    for i in range(len(xc)):\n",
    "        plt.annotate(i, (xc[i] + 0.015, yc[i]), size=16, color=\"r\")\n",
    "\n",
    "    plt.grid()\n",
    "\n",
    "    for ii in range(n**2, n**2 + n):\n",
    "\n",
    "        if x[ii] > 0:\n",
    "            plt.plot(xc[ii - n**2], yc[ii - n**2], \"r*\", ms=20)\n",
    "\n",
    "    for ii in range(0, n**2):\n",
    "\n",
    "        if x[ii] > 0:\n",
    "            iy = ii // n\n",
    "            ix = ii % n\n",
    "            plt.plot([xc[ix], xc[iy]], [yc[ix], yc[iy]], \"C2\")\n",
    "\n",
    "    plt.title(title_str + \" cost = \" + str(int(C * 100) / 100.0))\n",
    "    plt.show()\n"
   ]
  },
  {
   "cell_type": "code",
   "execution_count": null,
   "metadata": {
    "id": "H_PVlYZpRu3y"
   },
   "outputs": [],
   "source": [
    "from qiskit.utils import algorithm_globals\n",
    "\n",
    "\n",
    "class QuantumOptimizer:\n",
    "    def __init__(self, rho, n, q):\n",
    "        self.rho = rho\n",
    "        self.n = n\n",
    "        self.q = q\n",
    "        self.pdf = PortfolioDiversification(similarity_matrix=rho, num_assets=n, num_clusters=q)\n",
    "        self.qp = self.pdf.to_quadratic_program()\n",
    "\n",
    "    # Obtains the least eigenvalue of the Hamiltonian classically\n",
    "    def exact_solution(self):\n",
    "        exact_mes = NumPyMinimumEigensolver()\n",
    "        exact_eigensolver = MinimumEigenOptimizer(exact_mes)\n",
    "        result = exact_eigensolver.solve(self.qp)\n",
    "        return self.decode_result(result)\n",
    "\n",
    "    def vqe_solution(self):\n",
    "        algorithm_globals.random_seed = 100\n",
    "        cobyla = COBYLA()\n",
    "        cobyla.set_options(maxiter=250)\n",
    "        ry = TwoLocal(n, \"ry\", \"cz\", reps=5, entanglement=\"full\")\n",
    "        vqe_mes = SamplingVQE(sampler=Sampler(), ansatz=ry, optimizer=cobyla)\n",
    "        vqe = MinimumEigenOptimizer(vqe_mes)\n",
    "        result = vqe.solve(self.qp)\n",
    "        print(\"vqe solution is \", result)\n",
    "        return self.decode_result(result)\n",
    "\n",
    "    def qaoa_solution(self):\n",
    "        algorithm_globals.random_seed = 1234\n",
    "        cobyla = COBYLA()\n",
    "        cobyla.set_options(maxiter=250)\n",
    "        qaoa_mes = QAOA(sampler=Sampler(), optimizer=cobyla, reps=3)\n",
    "        qaoa = MinimumEigenOptimizer(qaoa_mes)\n",
    "        result = qaoa.solve(self.qp)\n",
    "        return self.decode_result(result)\n",
    "\n",
    "    def decode_result(self, result, offset=0):\n",
    "        quantum_solution = 1 - (result.x)\n",
    "        ground_level = self.qp.objective.evaluate(result.x)\n",
    "        return quantum_solution, ground_level\n"
   ]
  },
  {
   "cell_type": "code",
   "execution_count": null,
   "metadata": {
    "colab": {
     "base_uri": "https://localhost:8080/"
    },
    "id": "HeueeKE4UGco",
    "outputId": "43b1efcd-1f6f-4bff-fe08-bdef23880d3a"
   },
   "outputs": [],
   "source": [
    "!pip install qiskit-optimization[cplex]"
   ]
  },
  {
   "cell_type": "code",
   "execution_count": null,
   "metadata": {
    "id": "wANv6gs3Ryyf"
   },
   "outputs": [],
   "source": [
    "quantum_optimizer = QuantumOptimizer(rho, n, q)\n"
   ]
  },
  {
   "cell_type": "code",
   "execution_count": null,
   "metadata": {
    "colab": {
     "base_uri": "https://localhost:8080/"
    },
    "id": "yxnu_3gSR2Jt",
    "outputId": "d465d4c0-0d28-4ff3-cca0-37286d4980c3"
   },
   "outputs": [],
   "source": [
    "# Check if the binary representation is correct. This requires CPLEX\n",
    "try:\n",
    "    import cplex\n",
    "\n",
    "    # warnings.filterwarnings('ignore')\n",
    "    quantum_solution, quantum_cost = quantum_optimizer.exact_solution()\n",
    "    print(quantum_solution, quantum_cost)\n",
    "    classical_solution, classical_cost = classical_optimizer.cplex_solution()\n",
    "    print(classical_solution, classical_cost)\n",
    "    if np.abs(quantum_cost - classical_cost) < 0.01:\n",
    "        print(\"Binary formulation is correct\")\n",
    "    else:\n",
    "        print(\"Error in the formulation of the Hamiltonian\")\n",
    "except Exception as ex:\n",
    "    print(ex)"
   ]
  },
  {
   "cell_type": "code",
   "execution_count": null,
   "metadata": {
    "colab": {
     "base_uri": "https://localhost:8080/"
    },
    "id": "lv-SxbNNR6CK",
    "outputId": "cbc62431-b90a-452d-87cb-8df10b21b990"
   },
   "outputs": [],
   "source": [
    "ground_state, ground_level = quantum_optimizer.exact_solution()\n",
    "print(ground_state)\n",
    "classical_cost = 1.000779571614484  # obtained from the CPLEX solution\n",
    "print(\"ground level cost is \", ground_level)\n",
    "try:\n",
    "    if np.abs(ground_level - classical_cost) < 0.01:\n",
    "        print(\"Ising Hamiltonian in Z basis is correct\")\n",
    "    else:\n",
    "        print(\"Error in the Ising Hamiltonian formulation\")\n",
    "except Exception as ex:\n",
    "    print(ex)"
   ]
  },
  {
   "cell_type": "code",
   "execution_count": null,
   "metadata": {
    "colab": {
     "base_uri": "https://localhost:8080/"
    },
    "id": "vf6ZMUN9R9U-",
    "outputId": "7d54bbef-8fd0-48fc-8d5d-d1d90ede6fe8"
   },
   "outputs": [],
   "source": [
    "vqe_state, vqe_level = quantum_optimizer.vqe_solution()\n",
    "\n",
    "print(\"backend used is \", backend)\n",
    "print(vqe_state, vqe_level)\n",
    "\n",
    "try:\n",
    "    if np.linalg.norm(ground_state - vqe_state) < 0.01:\n",
    "        print(\"SamplingVQE produces the same solution as the exact eigensolver.\")\n",
    "    else:\n",
    "        print(\n",
    "            \"SamplingVQE does not produce the same solution as the exact eigensolver, but that is to be expected.\"\n",
    "        )\n",
    "except Exception as ex:\n",
    "    print(ex)"
   ]
  },
  {
   "cell_type": "code",
   "execution_count": null,
   "metadata": {
    "id": "wfsmBtHqSBBV"
   },
   "outputs": [],
   "source": [
    "xc, yc = data.get_coordinates()"
   ]
  },
  {
   "cell_type": "code",
   "execution_count": null,
   "metadata": {
    "colab": {
     "base_uri": "https://localhost:8080/",
     "height": 452
    },
    "id": "KawS9c5hSFnZ",
    "outputId": "ba50c615-bfea-4484-97f7-d854a733caf8"
   },
   "outputs": [],
   "source": [
    "visualize_solution(xc, yc, ground_state, ground_level, n, q, \"Classical\")"
   ]
  },
  {
   "cell_type": "code",
   "execution_count": null,
   "metadata": {
    "colab": {
     "base_uri": "https://localhost:8080/",
     "height": 452
    },
    "id": "YHH5qkGGSImz",
    "outputId": "f07a1745-cf74-437f-bad7-1be83340d861"
   },
   "outputs": [],
   "source": [
    "visualize_solution(xc, yc, vqe_state, vqe_level, n, q, \"VQE\")"
   ]
  },
  {
   "cell_type": "code",
   "execution_count": null,
   "metadata": {
    "id": "HQ-0mHBASUCY"
   },
   "outputs": [],
   "source": []
  }
 ],
 "metadata": {
  "colab": {
   "provenance": []
  },
  "kernelspec": {
   "display_name": "Python 3 (ipykernel)",
   "language": "python",
   "name": "python3"
  },
  "language_info": {
   "codemirror_mode": {
    "name": "ipython",
    "version": 3
   },
   "file_extension": ".py",
   "mimetype": "text/x-python",
   "name": "python",
   "nbconvert_exporter": "python",
   "pygments_lexer": "ipython3",
   "version": "3.10.8"
  },
  "widgets": {
   "application/vnd.jupyter.widget-state+json": {
    "state": {},
    "version_major": 2,
    "version_minor": 0
   }
  }
 },
 "nbformat": 4,
 "nbformat_minor": 4
}
